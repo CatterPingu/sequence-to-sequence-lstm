{
  "nbformat": 4,
  "nbformat_minor": 0,
  "metadata": {
    "colab": {
      "provenance": []
    },
    "kernelspec": {
      "name": "python3",
      "display_name": "Python 3"
    },
    "language_info": {
      "name": "python"
    },
    "accelerator": "GPU",
    "gpuClass": "standard"
  },
  "cells": [
    {
      "cell_type": "code",
      "execution_count": 1,
      "metadata": {
        "id": "ONeqvT2v2vdK"
      },
      "outputs": [],
      "source": [
        "from tensorflow.keras.models import Model\n",
        "from tensorflow.keras.layers import Input,LSTM,Dense\n",
        "import numpy as np\n",
        "import tensorflow as tf\n",
        "from tensorflow import keras"
      ]
    },
    {
      "cell_type": "code",
      "source": [
        "!!curl -O http://www.manythings.org/anki/fra-eng.zip\n",
        "!!unzip fra-eng.zip"
      ],
      "metadata": {
        "colab": {
          "base_uri": "https://localhost:8080/"
        },
        "id": "cwocjsU_BOLb",
        "outputId": "71ab6634-b668-4a5b-a4dc-64626b4ecdb5"
      },
      "execution_count": 2,
      "outputs": [
        {
          "output_type": "execute_result",
          "data": {
            "text/plain": [
              "['Archive:  fra-eng.zip',\n",
              " '  inflating: _about.txt              ',\n",
              " '  inflating: fra.txt                 ']"
            ]
          },
          "metadata": {},
          "execution_count": 2
        }
      ]
    },
    {
      "cell_type": "code",
      "source": [
        "batch_size=64\n",
        "epochs=100\n",
        "latent_dim=256 #Size within which the data is represented after being encoded\n",
        "num_samples=10000\n",
        "data_path='/content/fra.txt'"
      ],
      "metadata": {
        "id": "R_aEvPZuAk5S"
      },
      "execution_count": 3,
      "outputs": []
    },
    {
      "cell_type": "markdown",
      "source": [
        "# Data Preparation"
      ],
      "metadata": {
        "id": "M4od3DiL2LGk"
      }
    },
    {
      "cell_type": "code",
      "source": [
        "input_texts=[]\n",
        "target_texts=[]\n",
        "input_characters=set()\n",
        "target_characters=set()"
      ],
      "metadata": {
        "id": "hO8VwPg11iGU"
      },
      "execution_count": 4,
      "outputs": []
    },
    {
      "cell_type": "code",
      "source": [
        "with open(data_path,\"r\",encoding='utf-8') as f:\n",
        "  lines=f.read().split(\"\\n\")"
      ],
      "metadata": {
        "id": "KAjoiYBk16OS"
      },
      "execution_count": 5,
      "outputs": []
    },
    {
      "cell_type": "code",
      "source": [
        "for line in lines[:min(num_samples,len(lines)-1)]:\n",
        "  input_text,target_text,_=line.split(\"\\t\")#it is expected  each line in the file contains an input and target sequence separated by a tab character,'_' is used to discard any additional parts after the target sequence\n",
        "\n",
        "  target_text=\"\\t\"+target_text+\"\\n\"#common technique in sequence to sequence learning to inform the decoder when to start and stop generating the target text\n",
        "  input_texts.append(input_text)\n",
        "  target_texts.append(target_text)\n",
        "\n",
        "  for char in input_text:\n",
        "    if char not in input_characters:#to build the vocabulary for the input and target text data. \n",
        "      input_characters.add(char)\n",
        "\n",
        "  for char in target_text:\n",
        "    if char not in target_characters:\n",
        "      target_characters.add(char)    "
      ],
      "metadata": {
        "id": "4adIdyCt3NfA"
      },
      "execution_count": 6,
      "outputs": []
    },
    {
      "cell_type": "code",
      "source": [
        "input_characters=sorted(list(input_characters))\n",
        "target_characters=sorted(list(target_characters))\n",
        "num_encoder_tokens=len(input_characters)\n",
        "num_decoder_tokens=len(target_characters) #to determine the size of input and output layers\n",
        "max_encoder_seq_length=max([len(txt) for txt in input_texts])\n",
        "max_decoder_seq_length=max([len(txt) for txt in target_texts])"
      ],
      "metadata": {
        "id": "L9JmGeCqv7Yo"
      },
      "execution_count": 7,
      "outputs": []
    },
    {
      "cell_type": "code",
      "source": [
        "input_token_index=dict([(char,i) for i,char in enumerate(input_characters)])\n",
        "target_token_index=dict([(char,i) for i,char in enumerate(target_characters)])\n",
        "#Doctionaries which map each character to a integer index,to represent data in numerical format for getting processed by the model"
      ],
      "metadata": {
        "id": "t-54CwD80VL3"
      },
      "execution_count": 8,
      "outputs": []
    },
    {
      "cell_type": "code",
      "source": [
        "encoder_input_data=np.zeros(\n",
        "    (len(input_texts),max_encoder_seq_length,num_encoder_tokens),dtype=\"float32\")\n",
        "decoder_input_data=np.zeros(\n",
        "    (len(input_texts),max_decoder_seq_length,num_decoder_tokens),dtype=\"float32\")\n",
        "decoder_target_data=np.zeros(\n",
        "    (len(input_texts),max_decoder_seq_length,num_decoder_tokens),dtype=\"float32\")\n",
        "\n",
        "#initializing arrays with zeroes. These arrays will hold the data and will be used to train the model"
      ],
      "metadata": {
        "id": "iEgQW4_w09kR"
      },
      "execution_count": 9,
      "outputs": []
    },
    {
      "cell_type": "code",
      "source": [
        "for i, (input_text, target_text) in enumerate(zip(input_texts, target_texts)):\n",
        "    for t, char in enumerate(input_text):\n",
        "        encoder_input_data[i, t, input_token_index[char]] = 1.0\n",
        "    encoder_input_data[i, t + 1 :, input_token_index[\" \"]] = 1.0 #filling the left over space with blanks to have same length for all sequences\n",
        "    for t, char in enumerate(target_text):\n",
        "        # decoder_target_data is ahead of decoder_input_data by one timestep\n",
        "        decoder_input_data[i, t, target_token_index[char]] = 1.0\n",
        "        if t > 0:\n",
        "            # decoder_target_data will be ahead by one timestep\n",
        "            # and will not include the start character.\n",
        "            decoder_target_data[i, t - 1, target_token_index[char]] = 1.0\n",
        "\n",
        "    decoder_input_data[i, t + 1 :, target_token_index[\" \"]] = 1.0#padding\n",
        "    decoder_target_data[i, t:, target_token_index[\" \"]] = 1.0"
      ],
      "metadata": {
        "id": "dy27Wast8Xls"
      },
      "execution_count": 10,
      "outputs": []
    },
    {
      "cell_type": "markdown",
      "source": [
        "# Model Building"
      ],
      "metadata": {
        "id": "zcnTQ5z9DwHt"
      }
    },
    {
      "cell_type": "code",
      "source": [
        "encoder_inputs=keras.Input(shape=(None,num_encoder_tokens)) #input length of the  variable sequence is not known beforehand, and the other argument is for specifying the size of the one hot encoded vectors\n",
        "encoder=keras.layers.LSTM(latent_dim,return_state=True)#instructing the lstm layer to return the final hidden state and the final state\n",
        "encoder_outputs,state_h,state_c=encoder(encoder_inputs)"
      ],
      "metadata": {
        "id": "glcd95hcDx89"
      },
      "execution_count": 11,
      "outputs": []
    },
    {
      "cell_type": "code",
      "source": [
        "encoder_states=[state_h,state_c]\n",
        "\n",
        "#discard the encoder output but keept the states(context vector)"
      ],
      "metadata": {
        "id": "Az_aFOgPEjfJ"
      },
      "execution_count": 12,
      "outputs": []
    },
    {
      "cell_type": "code",
      "source": [
        "decoder_inputs=keras.Input(shape=(None,num_decoder_tokens))"
      ],
      "metadata": {
        "id": "zqmQHlegTaeC"
      },
      "execution_count": 13,
      "outputs": []
    },
    {
      "cell_type": "code",
      "source": [
        "decoder_lstm=keras.layers.LSTM(latent_dim,return_sequences=True,return_state=True)\n",
        "decoder_outputs,_,_=decoder_lstm(decoder_inputs,initial_state=encoder_states)\n",
        "decoder_dense=keras.layers.Dense(num_decoder_tokens,activation=\"softmax\")\n",
        "#This dense layer transforms the high dimensional output from the decoder outputs to something usable i.e., creates a probability distribution over the possible target tokens\n",
        "decoder_outputs=decoder_dense(decoder_outputs)\n",
        "\n",
        "model=keras.Model([encoder_inputs,decoder_inputs],decoder_outputs)"
      ],
      "metadata": {
        "id": "6GLVinvTT0st"
      },
      "execution_count": 14,
      "outputs": []
    },
    {
      "cell_type": "markdown",
      "source": [
        "# Training"
      ],
      "metadata": {
        "id": "Kgzz7qPlbvMD"
      }
    },
    {
      "cell_type": "code",
      "source": [
        "model.compile(optimizer=\"rmsprop\",loss=\"categorical_crossentropy\",metrics=[\"accuracy\"])\n",
        "model.summary()"
      ],
      "metadata": {
        "colab": {
          "base_uri": "https://localhost:8080/"
        },
        "id": "bBszFe7AZSzi",
        "outputId": "305f0d96-9b0e-4e86-bc3b-f2c65e00ea4c"
      },
      "execution_count": 15,
      "outputs": [
        {
          "output_type": "stream",
          "name": "stdout",
          "text": [
            "Model: \"model\"\n",
            "__________________________________________________________________________________________________\n",
            " Layer (type)                   Output Shape         Param #     Connected to                     \n",
            "==================================================================================================\n",
            " input_1 (InputLayer)           [(None, None, 70)]   0           []                               \n",
            "                                                                                                  \n",
            " input_2 (InputLayer)           [(None, None, 93)]   0           []                               \n",
            "                                                                                                  \n",
            " lstm (LSTM)                    [(None, 256),        334848      ['input_1[0][0]']                \n",
            "                                 (None, 256),                                                     \n",
            "                                 (None, 256)]                                                     \n",
            "                                                                                                  \n",
            " lstm_1 (LSTM)                  [(None, None, 256),  358400      ['input_2[0][0]',                \n",
            "                                 (None, 256),                     'lstm[0][1]',                   \n",
            "                                 (None, 256)]                     'lstm[0][2]']                   \n",
            "                                                                                                  \n",
            " dense (Dense)                  (None, None, 93)     23901       ['lstm_1[0][0]']                 \n",
            "                                                                                                  \n",
            "==================================================================================================\n",
            "Total params: 717,149\n",
            "Trainable params: 717,149\n",
            "Non-trainable params: 0\n",
            "__________________________________________________________________________________________________\n"
          ]
        }
      ]
    },
    {
      "cell_type": "code",
      "source": [
        "model.fit(\n",
        "    [encoder_input_data,decoder_input_data],\n",
        "    decoder_target_data,\n",
        "    batch_size=batch_size,\n",
        "    epochs=epochs,\n",
        "    validation_split=0.2\n",
        ")\n",
        "\n",
        "model.save(\"s2s\")"
      ],
      "metadata": {
        "colab": {
          "base_uri": "https://localhost:8080/"
        },
        "id": "fW8A6hYQcCF4",
        "outputId": "00a32b71-7a0f-453e-fd17-286558c1b1a5"
      },
      "execution_count": 16,
      "outputs": [
        {
          "output_type": "stream",
          "name": "stdout",
          "text": [
            "Epoch 1/100\n",
            "125/125 [==============================] - 11s 26ms/step - loss: 1.2275 - accuracy: 0.7326 - val_loss: 1.0695 - val_accuracy: 0.7138\n",
            "Epoch 2/100\n",
            "125/125 [==============================] - 1s 11ms/step - loss: 0.9418 - accuracy: 0.7475 - val_loss: 0.9880 - val_accuracy: 0.7139\n",
            "Epoch 3/100\n",
            "125/125 [==============================] - 1s 10ms/step - loss: 0.8510 - accuracy: 0.7641 - val_loss: 0.8811 - val_accuracy: 0.7445\n",
            "Epoch 4/100\n",
            "125/125 [==============================] - 1s 11ms/step - loss: 0.7530 - accuracy: 0.7890 - val_loss: 0.8270 - val_accuracy: 0.7633\n",
            "Epoch 5/100\n",
            "125/125 [==============================] - 2s 12ms/step - loss: 0.6736 - accuracy: 0.8066 - val_loss: 0.7265 - val_accuracy: 0.7888\n",
            "Epoch 6/100\n",
            "125/125 [==============================] - 1s 10ms/step - loss: 0.6303 - accuracy: 0.8168 - val_loss: 0.6850 - val_accuracy: 0.7992\n",
            "Epoch 7/100\n",
            "125/125 [==============================] - 1s 11ms/step - loss: 0.6024 - accuracy: 0.8233 - val_loss: 0.6562 - val_accuracy: 0.8047\n",
            "Epoch 8/100\n",
            "125/125 [==============================] - 1s 12ms/step - loss: 0.5798 - accuracy: 0.8290 - val_loss: 0.6364 - val_accuracy: 0.8119\n",
            "Epoch 9/100\n",
            "125/125 [==============================] - 2s 15ms/step - loss: 0.5612 - accuracy: 0.8342 - val_loss: 0.6150 - val_accuracy: 0.8196\n",
            "Epoch 10/100\n",
            "125/125 [==============================] - 2s 14ms/step - loss: 0.5433 - accuracy: 0.8397 - val_loss: 0.5976 - val_accuracy: 0.8244\n",
            "Epoch 11/100\n",
            "125/125 [==============================] - 2s 14ms/step - loss: 0.5288 - accuracy: 0.8439 - val_loss: 0.5853 - val_accuracy: 0.8301\n",
            "Epoch 12/100\n",
            "125/125 [==============================] - 1s 10ms/step - loss: 0.5136 - accuracy: 0.8488 - val_loss: 0.5677 - val_accuracy: 0.8349\n",
            "Epoch 13/100\n",
            "125/125 [==============================] - 1s 10ms/step - loss: 0.5003 - accuracy: 0.8529 - val_loss: 0.5576 - val_accuracy: 0.8387\n",
            "Epoch 14/100\n",
            "125/125 [==============================] - 1s 11ms/step - loss: 0.4878 - accuracy: 0.8564 - val_loss: 0.5415 - val_accuracy: 0.8418\n",
            "Epoch 15/100\n",
            "125/125 [==============================] - 1s 11ms/step - loss: 0.4760 - accuracy: 0.8599 - val_loss: 0.5316 - val_accuracy: 0.8466\n",
            "Epoch 16/100\n",
            "125/125 [==============================] - 1s 10ms/step - loss: 0.4655 - accuracy: 0.8629 - val_loss: 0.5245 - val_accuracy: 0.8479\n",
            "Epoch 17/100\n",
            "125/125 [==============================] - 2s 12ms/step - loss: 0.4553 - accuracy: 0.8656 - val_loss: 0.5142 - val_accuracy: 0.8511\n",
            "Epoch 18/100\n",
            "125/125 [==============================] - 2s 12ms/step - loss: 0.4448 - accuracy: 0.8686 - val_loss: 0.5113 - val_accuracy: 0.8518\n",
            "Epoch 19/100\n",
            "125/125 [==============================] - 1s 12ms/step - loss: 0.4358 - accuracy: 0.8709 - val_loss: 0.4937 - val_accuracy: 0.8561\n",
            "Epoch 20/100\n",
            "125/125 [==============================] - 2s 13ms/step - loss: 0.4271 - accuracy: 0.8734 - val_loss: 0.4918 - val_accuracy: 0.8570\n",
            "Epoch 21/100\n",
            "125/125 [==============================] - 1s 10ms/step - loss: 0.4195 - accuracy: 0.8755 - val_loss: 0.4896 - val_accuracy: 0.8565\n",
            "Epoch 22/100\n",
            "125/125 [==============================] - 1s 10ms/step - loss: 0.4112 - accuracy: 0.8780 - val_loss: 0.4807 - val_accuracy: 0.8593\n",
            "Epoch 23/100\n",
            "125/125 [==============================] - 2s 14ms/step - loss: 0.4041 - accuracy: 0.8801 - val_loss: 0.4786 - val_accuracy: 0.8607\n",
            "Epoch 24/100\n",
            "125/125 [==============================] - 2s 13ms/step - loss: 0.3973 - accuracy: 0.8818 - val_loss: 0.4770 - val_accuracy: 0.8607\n",
            "Epoch 25/100\n",
            "125/125 [==============================] - 2s 12ms/step - loss: 0.3908 - accuracy: 0.8838 - val_loss: 0.4659 - val_accuracy: 0.8637\n",
            "Epoch 26/100\n",
            "125/125 [==============================] - 2s 14ms/step - loss: 0.3843 - accuracy: 0.8853 - val_loss: 0.4645 - val_accuracy: 0.8638\n",
            "Epoch 27/100\n",
            "125/125 [==============================] - 2s 12ms/step - loss: 0.3783 - accuracy: 0.8873 - val_loss: 0.4679 - val_accuracy: 0.8630\n",
            "Epoch 28/100\n",
            "125/125 [==============================] - 1s 10ms/step - loss: 0.3725 - accuracy: 0.8886 - val_loss: 0.4560 - val_accuracy: 0.8661\n",
            "Epoch 29/100\n",
            "125/125 [==============================] - 1s 10ms/step - loss: 0.3669 - accuracy: 0.8904 - val_loss: 0.4503 - val_accuracy: 0.8689\n",
            "Epoch 30/100\n",
            "125/125 [==============================] - 1s 12ms/step - loss: 0.3608 - accuracy: 0.8921 - val_loss: 0.4517 - val_accuracy: 0.8676\n",
            "Epoch 31/100\n",
            "125/125 [==============================] - 1s 12ms/step - loss: 0.3557 - accuracy: 0.8939 - val_loss: 0.4510 - val_accuracy: 0.8680\n",
            "Epoch 32/100\n",
            "125/125 [==============================] - 1s 10ms/step - loss: 0.3507 - accuracy: 0.8956 - val_loss: 0.4456 - val_accuracy: 0.8701\n",
            "Epoch 33/100\n",
            "125/125 [==============================] - 1s 10ms/step - loss: 0.3451 - accuracy: 0.8972 - val_loss: 0.4451 - val_accuracy: 0.8704\n",
            "Epoch 34/100\n",
            "125/125 [==============================] - 2s 17ms/step - loss: 0.3403 - accuracy: 0.8983 - val_loss: 0.4408 - val_accuracy: 0.8714\n",
            "Epoch 35/100\n",
            "125/125 [==============================] - 2s 13ms/step - loss: 0.3354 - accuracy: 0.8998 - val_loss: 0.4399 - val_accuracy: 0.8715\n",
            "Epoch 36/100\n",
            "125/125 [==============================] - 1s 11ms/step - loss: 0.3309 - accuracy: 0.9008 - val_loss: 0.4409 - val_accuracy: 0.8717\n",
            "Epoch 37/100\n",
            "125/125 [==============================] - 2s 13ms/step - loss: 0.3266 - accuracy: 0.9022 - val_loss: 0.4357 - val_accuracy: 0.8738\n",
            "Epoch 38/100\n",
            "125/125 [==============================] - 1s 11ms/step - loss: 0.3219 - accuracy: 0.9036 - val_loss: 0.4350 - val_accuracy: 0.8733\n",
            "Epoch 39/100\n",
            "125/125 [==============================] - 2s 12ms/step - loss: 0.3170 - accuracy: 0.9051 - val_loss: 0.4345 - val_accuracy: 0.8742\n",
            "Epoch 40/100\n",
            "125/125 [==============================] - 1s 10ms/step - loss: 0.3132 - accuracy: 0.9064 - val_loss: 0.4337 - val_accuracy: 0.8742\n",
            "Epoch 41/100\n",
            "125/125 [==============================] - 2s 12ms/step - loss: 0.3087 - accuracy: 0.9075 - val_loss: 0.4323 - val_accuracy: 0.8751\n",
            "Epoch 42/100\n",
            "125/125 [==============================] - 1s 12ms/step - loss: 0.3042 - accuracy: 0.9088 - val_loss: 0.4345 - val_accuracy: 0.8746\n",
            "Epoch 43/100\n",
            "125/125 [==============================] - 1s 12ms/step - loss: 0.3006 - accuracy: 0.9097 - val_loss: 0.4314 - val_accuracy: 0.8747\n",
            "Epoch 44/100\n",
            "125/125 [==============================] - 1s 10ms/step - loss: 0.2964 - accuracy: 0.9108 - val_loss: 0.4323 - val_accuracy: 0.8765\n",
            "Epoch 45/100\n",
            "125/125 [==============================] - 1s 10ms/step - loss: 0.2920 - accuracy: 0.9123 - val_loss: 0.4334 - val_accuracy: 0.8753\n",
            "Epoch 46/100\n",
            "125/125 [==============================] - 1s 10ms/step - loss: 0.2886 - accuracy: 0.9133 - val_loss: 0.4349 - val_accuracy: 0.8755\n",
            "Epoch 47/100\n",
            "125/125 [==============================] - 1s 10ms/step - loss: 0.2847 - accuracy: 0.9143 - val_loss: 0.4333 - val_accuracy: 0.8760\n",
            "Epoch 48/100\n",
            "125/125 [==============================] - 1s 10ms/step - loss: 0.2807 - accuracy: 0.9158 - val_loss: 0.4348 - val_accuracy: 0.8762\n",
            "Epoch 49/100\n",
            "125/125 [==============================] - 1s 10ms/step - loss: 0.2768 - accuracy: 0.9171 - val_loss: 0.4323 - val_accuracy: 0.8767\n",
            "Epoch 50/100\n",
            "125/125 [==============================] - 1s 11ms/step - loss: 0.2734 - accuracy: 0.9178 - val_loss: 0.4315 - val_accuracy: 0.8768\n",
            "Epoch 51/100\n",
            "125/125 [==============================] - 2s 13ms/step - loss: 0.2696 - accuracy: 0.9189 - val_loss: 0.4306 - val_accuracy: 0.8783\n",
            "Epoch 52/100\n",
            "125/125 [==============================] - 2s 17ms/step - loss: 0.2661 - accuracy: 0.9202 - val_loss: 0.4371 - val_accuracy: 0.8760\n",
            "Epoch 53/100\n",
            "125/125 [==============================] - 1s 11ms/step - loss: 0.2628 - accuracy: 0.9212 - val_loss: 0.4319 - val_accuracy: 0.8777\n",
            "Epoch 54/100\n",
            "125/125 [==============================] - 1s 11ms/step - loss: 0.2594 - accuracy: 0.9221 - val_loss: 0.4331 - val_accuracy: 0.8777\n",
            "Epoch 55/100\n",
            "125/125 [==============================] - 1s 11ms/step - loss: 0.2556 - accuracy: 0.9228 - val_loss: 0.4323 - val_accuracy: 0.8783\n",
            "Epoch 56/100\n",
            "125/125 [==============================] - 1s 11ms/step - loss: 0.2527 - accuracy: 0.9238 - val_loss: 0.4358 - val_accuracy: 0.8775\n",
            "Epoch 57/100\n",
            "125/125 [==============================] - 1s 11ms/step - loss: 0.2494 - accuracy: 0.9252 - val_loss: 0.4429 - val_accuracy: 0.8754\n",
            "Epoch 58/100\n",
            "125/125 [==============================] - 1s 11ms/step - loss: 0.2463 - accuracy: 0.9260 - val_loss: 0.4362 - val_accuracy: 0.8787\n",
            "Epoch 59/100\n",
            "125/125 [==============================] - 2s 13ms/step - loss: 0.2427 - accuracy: 0.9268 - val_loss: 0.4367 - val_accuracy: 0.8781\n",
            "Epoch 60/100\n",
            "125/125 [==============================] - 2s 14ms/step - loss: 0.2398 - accuracy: 0.9280 - val_loss: 0.4389 - val_accuracy: 0.8781\n",
            "Epoch 61/100\n",
            "125/125 [==============================] - 1s 12ms/step - loss: 0.2364 - accuracy: 0.9290 - val_loss: 0.4422 - val_accuracy: 0.8779\n",
            "Epoch 62/100\n",
            "125/125 [==============================] - 1s 11ms/step - loss: 0.2336 - accuracy: 0.9297 - val_loss: 0.4412 - val_accuracy: 0.8781\n",
            "Epoch 63/100\n",
            "125/125 [==============================] - 1s 12ms/step - loss: 0.2305 - accuracy: 0.9306 - val_loss: 0.4422 - val_accuracy: 0.8785\n",
            "Epoch 64/100\n",
            "125/125 [==============================] - 1s 11ms/step - loss: 0.2277 - accuracy: 0.9313 - val_loss: 0.4409 - val_accuracy: 0.8788\n",
            "Epoch 65/100\n",
            "125/125 [==============================] - 1s 11ms/step - loss: 0.2244 - accuracy: 0.9322 - val_loss: 0.4441 - val_accuracy: 0.8786\n",
            "Epoch 66/100\n",
            "125/125 [==============================] - 1s 11ms/step - loss: 0.2218 - accuracy: 0.9330 - val_loss: 0.4451 - val_accuracy: 0.8798\n",
            "Epoch 67/100\n",
            "125/125 [==============================] - 1s 11ms/step - loss: 0.2186 - accuracy: 0.9342 - val_loss: 0.4471 - val_accuracy: 0.8792\n",
            "Epoch 68/100\n",
            "125/125 [==============================] - 2s 14ms/step - loss: 0.2158 - accuracy: 0.9350 - val_loss: 0.4497 - val_accuracy: 0.8789\n",
            "Epoch 69/100\n",
            "125/125 [==============================] - 1s 11ms/step - loss: 0.2132 - accuracy: 0.9357 - val_loss: 0.4534 - val_accuracy: 0.8777\n",
            "Epoch 70/100\n",
            "125/125 [==============================] - 1s 10ms/step - loss: 0.2109 - accuracy: 0.9366 - val_loss: 0.4510 - val_accuracy: 0.8795\n",
            "Epoch 71/100\n",
            "125/125 [==============================] - 1s 10ms/step - loss: 0.2080 - accuracy: 0.9371 - val_loss: 0.4550 - val_accuracy: 0.8788\n",
            "Epoch 72/100\n",
            "125/125 [==============================] - 1s 10ms/step - loss: 0.2052 - accuracy: 0.9379 - val_loss: 0.4551 - val_accuracy: 0.8795\n",
            "Epoch 73/100\n",
            "125/125 [==============================] - 1s 10ms/step - loss: 0.2029 - accuracy: 0.9389 - val_loss: 0.4561 - val_accuracy: 0.8790\n",
            "Epoch 74/100\n",
            "125/125 [==============================] - 1s 11ms/step - loss: 0.1999 - accuracy: 0.9396 - val_loss: 0.4606 - val_accuracy: 0.8779\n",
            "Epoch 75/100\n",
            "125/125 [==============================] - 1s 12ms/step - loss: 0.1976 - accuracy: 0.9402 - val_loss: 0.4612 - val_accuracy: 0.8775\n",
            "Epoch 76/100\n",
            "125/125 [==============================] - 2s 13ms/step - loss: 0.1946 - accuracy: 0.9413 - val_loss: 0.4664 - val_accuracy: 0.8775\n",
            "Epoch 77/100\n",
            "125/125 [==============================] - 2s 12ms/step - loss: 0.1926 - accuracy: 0.9419 - val_loss: 0.4640 - val_accuracy: 0.8786\n",
            "Epoch 78/100\n",
            "125/125 [==============================] - 1s 12ms/step - loss: 0.1897 - accuracy: 0.9427 - val_loss: 0.4644 - val_accuracy: 0.8786\n",
            "Epoch 79/100\n",
            "125/125 [==============================] - 1s 11ms/step - loss: 0.1876 - accuracy: 0.9431 - val_loss: 0.4692 - val_accuracy: 0.8781\n",
            "Epoch 80/100\n",
            "125/125 [==============================] - 1s 10ms/step - loss: 0.1853 - accuracy: 0.9438 - val_loss: 0.4686 - val_accuracy: 0.8787\n",
            "Epoch 81/100\n",
            "125/125 [==============================] - 1s 11ms/step - loss: 0.1832 - accuracy: 0.9445 - val_loss: 0.4721 - val_accuracy: 0.8781\n",
            "Epoch 82/100\n",
            "125/125 [==============================] - 1s 11ms/step - loss: 0.1811 - accuracy: 0.9452 - val_loss: 0.4723 - val_accuracy: 0.8782\n",
            "Epoch 83/100\n",
            "125/125 [==============================] - 1s 11ms/step - loss: 0.1780 - accuracy: 0.9461 - val_loss: 0.4772 - val_accuracy: 0.8779\n",
            "Epoch 84/100\n",
            "125/125 [==============================] - 1s 11ms/step - loss: 0.1758 - accuracy: 0.9465 - val_loss: 0.4791 - val_accuracy: 0.8775\n",
            "Epoch 85/100\n",
            "125/125 [==============================] - 2s 15ms/step - loss: 0.1743 - accuracy: 0.9471 - val_loss: 0.4801 - val_accuracy: 0.8785\n",
            "Epoch 86/100\n",
            "125/125 [==============================] - 2s 12ms/step - loss: 0.1716 - accuracy: 0.9480 - val_loss: 0.4816 - val_accuracy: 0.8776\n",
            "Epoch 87/100\n",
            "125/125 [==============================] - 1s 11ms/step - loss: 0.1701 - accuracy: 0.9484 - val_loss: 0.4850 - val_accuracy: 0.8779\n",
            "Epoch 88/100\n",
            "125/125 [==============================] - 1s 12ms/step - loss: 0.1675 - accuracy: 0.9493 - val_loss: 0.4879 - val_accuracy: 0.8772\n",
            "Epoch 89/100\n",
            "125/125 [==============================] - 1s 12ms/step - loss: 0.1656 - accuracy: 0.9497 - val_loss: 0.4913 - val_accuracy: 0.8779\n",
            "Epoch 90/100\n",
            "125/125 [==============================] - 1s 11ms/step - loss: 0.1640 - accuracy: 0.9501 - val_loss: 0.4919 - val_accuracy: 0.8770\n",
            "Epoch 91/100\n",
            "125/125 [==============================] - 1s 11ms/step - loss: 0.1614 - accuracy: 0.9511 - val_loss: 0.4946 - val_accuracy: 0.8783\n",
            "Epoch 92/100\n",
            "125/125 [==============================] - 1s 11ms/step - loss: 0.1595 - accuracy: 0.9516 - val_loss: 0.4937 - val_accuracy: 0.8772\n",
            "Epoch 93/100\n",
            "125/125 [==============================] - 2s 12ms/step - loss: 0.1577 - accuracy: 0.9520 - val_loss: 0.4989 - val_accuracy: 0.8769\n",
            "Epoch 94/100\n",
            "125/125 [==============================] - 2s 14ms/step - loss: 0.1561 - accuracy: 0.9526 - val_loss: 0.4994 - val_accuracy: 0.8769\n",
            "Epoch 95/100\n",
            "125/125 [==============================] - 1s 11ms/step - loss: 0.1538 - accuracy: 0.9534 - val_loss: 0.5014 - val_accuracy: 0.8768\n",
            "Epoch 96/100\n",
            "125/125 [==============================] - 1s 11ms/step - loss: 0.1516 - accuracy: 0.9538 - val_loss: 0.5039 - val_accuracy: 0.8769\n",
            "Epoch 97/100\n",
            "125/125 [==============================] - 1s 11ms/step - loss: 0.1503 - accuracy: 0.9543 - val_loss: 0.5077 - val_accuracy: 0.8780\n",
            "Epoch 98/100\n",
            "125/125 [==============================] - 1s 12ms/step - loss: 0.1479 - accuracy: 0.9549 - val_loss: 0.5111 - val_accuracy: 0.8774\n",
            "Epoch 99/100\n",
            "125/125 [==============================] - 1s 11ms/step - loss: 0.1466 - accuracy: 0.9554 - val_loss: 0.5125 - val_accuracy: 0.8757\n",
            "Epoch 100/100\n",
            "125/125 [==============================] - 2s 12ms/step - loss: 0.1450 - accuracy: 0.9557 - val_loss: 0.5151 - val_accuracy: 0.8762\n"
          ]
        },
        {
          "output_type": "stream",
          "name": "stderr",
          "text": [
            "WARNING:absl:Found untraced functions such as lstm_cell_layer_call_fn, lstm_cell_layer_call_and_return_conditional_losses, lstm_cell_1_layer_call_fn, lstm_cell_1_layer_call_and_return_conditional_losses while saving (showing 4 of 4). These functions will not be directly callable after loading.\n"
          ]
        }
      ]
    },
    {
      "cell_type": "markdown",
      "source": [
        "# Sampling"
      ],
      "metadata": {
        "id": "lbaQG2n13aod"
      }
    },
    {
      "cell_type": "code",
      "source": [
        "model=keras.models.load_model(\"s2s\")"
      ],
      "metadata": {
        "id": "C-eZqxpAeqlm"
      },
      "execution_count": 17,
      "outputs": []
    },
    {
      "cell_type": "code",
      "source": [
        "encoder_inputs=model.input[0]\n",
        "encoder_outputs,state_h_enc,state_c_enc=model.layers[2].output\n",
        "encoder_states=[state_h_enc,state_c_enc]\n",
        "encoder_model=keras.Model(encoder_inputs,encoder_states)"
      ],
      "metadata": {
        "id": "4hWvZlgl3gxR"
      },
      "execution_count": 18,
      "outputs": []
    },
    {
      "cell_type": "code",
      "source": [
        "decoder_inputs=model.input[1]\n",
        "decoder_state_input_h=keras.Input(shape=(latent_dim,))\n",
        "decoder_state_input_c=keras.Input(shape=(latent_dim,))\n",
        "decoder_states_inputs=[decoder_state_input_h,decoder_state_input_c]\n",
        "decoder_lstm=model.layers[3]\n",
        "decoder_outputs,state_h_dec,state_c_dec=decoder_lstm(\n",
        "    decoder_inputs,initial_state=decoder_states_inputs\n",
        ")#decoding the english using the context vectors from the encoding layer"
      ],
      "metadata": {
        "id": "QGAiXcnh44cq"
      },
      "execution_count": 19,
      "outputs": []
    },
    {
      "cell_type": "code",
      "source": [
        "decoder_states=[state_h_dec,state_c_dec]#Dense Layer\n",
        "decoder_dense=model.layers[4]\n",
        "decoder_outputs=decoder_dense(decoder_outputs)\n",
        "decoder_model=keras.Model(\n",
        "    [decoder_inputs]+ decoder_states_inputs, [decoder_outputs]+decoder_states\n",
        ")#(input,output)"
      ],
      "metadata": {
        "id": "1K1b77ci7BNE"
      },
      "execution_count": 20,
      "outputs": []
    },
    {
      "cell_type": "code",
      "source": [
        "reverse_input_char_index = dict((i, char) for char, i in input_token_index.items())\n",
        "reverse_target_char_index = dict((i, char) for char, i in target_token_index.items())\n",
        "#Mapping the indices back to the respective characters"
      ],
      "metadata": {
        "id": "DgtQ-Wbt7mbm"
      },
      "execution_count": 21,
      "outputs": []
    },
    {
      "cell_type": "code",
      "source": [
        "def decode_sequence(input_seq):\n",
        "  states_value=encoder_model.predict(input_seq)\n",
        "\n",
        "  target_seq=np.zeros((1,1,num_decoder_tokens))\n",
        "\n",
        "\n",
        "  stop_condition=False\n",
        "  decoded_sentence=\"\"\n",
        "\n",
        "  while not stop_condition:\n",
        "    output_tokens,h,c=decoder_model.predict([target_seq]+states_value)\n",
        "\n",
        "    sampled_token_index=np.argmax(output_tokens[0,-1,:])\n",
        "    sampled_char=reverse_target_char_index[sampled_token_index]\n",
        "    decoded_sentence+=sampled_char\n",
        "\n",
        "    if sampled_char==\"\\n\" or len(decoded_sentence)>max_decoder_seq_length:\n",
        "      stop_condition=True\n",
        "\n",
        "    \n",
        "    target_seq=np.zeros((1,1,num_decoder_tokens))\n",
        "    target_seq[0,0,sampled_token_index]=1.0\n",
        "\n",
        "    states_value=[h,c]\n",
        "\n",
        "  return decoded_sentence\n",
        "\n",
        "\n"
      ],
      "metadata": {
        "id": "YwxQbhKr9q9l"
      },
      "execution_count": 22,
      "outputs": []
    },
    {
      "cell_type": "code",
      "source": [
        "for seq_index in range(20):\n",
        "\n",
        "  input_seq=encoder_input_data[seq_index:seq_index+1]\n",
        "  decoded_sentence=decode_sequence(input_seq)\n",
        "  print(\"-\")\n",
        "\n",
        "  print(\"Input Sentence: \",input_texts[seq_index])\n",
        "  print(\"decoded sentence: \",decoded_sentence)"
      ],
      "metadata": {
        "colab": {
          "base_uri": "https://localhost:8080/"
        },
        "id": "cpBXWCP6diOT",
        "outputId": "2f3b532d-17c6-474b-9c9f-eeeda356630e"
      },
      "execution_count": 25,
      "outputs": [
        {
          "output_type": "stream",
          "name": "stdout",
          "text": [
            "1/1 [==============================] - 0s 349ms/step\n",
            "1/1 [==============================] - 0s 333ms/step\n",
            "1/1 [==============================] - 0s 21ms/step\n",
            "1/1 [==============================] - 0s 27ms/step\n",
            "1/1 [==============================] - 0s 19ms/step\n",
            "1/1 [==============================] - 0s 19ms/step\n",
            "1/1 [==============================] - 0s 19ms/step\n",
            "1/1 [==============================] - 0s 20ms/step\n",
            "1/1 [==============================] - 0s 21ms/step\n",
            "1/1 [==============================] - 0s 18ms/step\n",
            "1/1 [==============================] - 0s 19ms/step\n",
            "1/1 [==============================] - 0s 20ms/step\n",
            "1/1 [==============================] - 0s 21ms/step\n",
            "1/1 [==============================] - 0s 23ms/step\n",
            "-\n",
            "Input Sentence:  Go.\n",
            "decoded sentence:  Cassez-vous.\n",
            "\n",
            "1/1 [==============================] - 0s 26ms/step\n",
            "1/1 [==============================] - 0s 29ms/step\n",
            "1/1 [==============================] - 0s 35ms/step\n",
            "1/1 [==============================] - 0s 33ms/step\n",
            "1/1 [==============================] - 0s 35ms/step\n",
            "1/1 [==============================] - 0s 28ms/step\n",
            "1/1 [==============================] - 0s 29ms/step\n",
            "1/1 [==============================] - 0s 29ms/step\n",
            "1/1 [==============================] - 0s 28ms/step\n",
            "1/1 [==============================] - 0s 29ms/step\n",
            "1/1 [==============================] - 0s 29ms/step\n",
            "1/1 [==============================] - 0s 29ms/step\n",
            "1/1 [==============================] - 0s 28ms/step\n",
            "1/1 [==============================] - 0s 28ms/step\n",
            "-\n",
            "Input Sentence:  Go.\n",
            "decoded sentence:  Cassez-vous.\n",
            "\n",
            "1/1 [==============================] - 0s 25ms/step\n",
            "1/1 [==============================] - 0s 32ms/step\n",
            "1/1 [==============================] - 0s 35ms/step\n",
            "1/1 [==============================] - 0s 29ms/step\n",
            "1/1 [==============================] - 0s 27ms/step\n",
            "1/1 [==============================] - 0s 32ms/step\n",
            "1/1 [==============================] - 0s 31ms/step\n",
            "1/1 [==============================] - 0s 30ms/step\n",
            "1/1 [==============================] - 0s 31ms/step\n",
            "1/1 [==============================] - 0s 34ms/step\n",
            "1/1 [==============================] - 0s 19ms/step\n",
            "1/1 [==============================] - 0s 19ms/step\n",
            "1/1 [==============================] - 0s 20ms/step\n",
            "1/1 [==============================] - 0s 18ms/step\n",
            "-\n",
            "Input Sentence:  Go.\n",
            "decoded sentence:  Cassez-vous.\n",
            "\n",
            "1/1 [==============================] - 0s 17ms/step\n",
            "1/1 [==============================] - 0s 19ms/step\n",
            "1/1 [==============================] - 0s 19ms/step\n",
            "1/1 [==============================] - 0s 20ms/step\n",
            "1/1 [==============================] - 0s 20ms/step\n",
            "1/1 [==============================] - 0s 21ms/step\n",
            "1/1 [==============================] - 0s 20ms/step\n",
            "1/1 [==============================] - 0s 18ms/step\n",
            "1/1 [==============================] - 0s 20ms/step\n",
            "1/1 [==============================] - 0s 18ms/step\n",
            "1/1 [==============================] - 0s 21ms/step\n",
            "1/1 [==============================] - 0s 21ms/step\n",
            "1/1 [==============================] - 0s 19ms/step\n",
            "1/1 [==============================] - 0s 20ms/step\n",
            "-\n",
            "Input Sentence:  Go.\n",
            "decoded sentence:  Cassez-vous.\n",
            "\n",
            "1/1 [==============================] - 0s 17ms/step\n",
            "1/1 [==============================] - 0s 19ms/step\n",
            "1/1 [==============================] - 0s 19ms/step\n",
            "1/1 [==============================] - 0s 22ms/step\n",
            "1/1 [==============================] - 0s 23ms/step\n",
            "1/1 [==============================] - 0s 25ms/step\n",
            "1/1 [==============================] - 0s 19ms/step\n",
            "1/1 [==============================] - 0s 18ms/step\n",
            "-\n",
            "Input Sentence:  Hi.\n",
            "decoded sentence:  Salut.\n",
            "\n",
            "1/1 [==============================] - 0s 16ms/step\n",
            "1/1 [==============================] - 0s 20ms/step\n",
            "1/1 [==============================] - 0s 18ms/step\n",
            "1/1 [==============================] - 0s 18ms/step\n",
            "1/1 [==============================] - 0s 27ms/step\n",
            "1/1 [==============================] - 0s 19ms/step\n",
            "1/1 [==============================] - 0s 20ms/step\n",
            "1/1 [==============================] - 0s 19ms/step\n",
            "-\n",
            "Input Sentence:  Hi.\n",
            "decoded sentence:  Salut.\n",
            "\n",
            "1/1 [==============================] - 0s 16ms/step\n",
            "1/1 [==============================] - 0s 18ms/step\n",
            "1/1 [==============================] - 0s 18ms/step\n",
            "1/1 [==============================] - 0s 19ms/step\n",
            "1/1 [==============================] - 0s 26ms/step\n",
            "1/1 [==============================] - 0s 23ms/step\n",
            "1/1 [==============================] - 0s 21ms/step\n",
            "1/1 [==============================] - 0s 20ms/step\n",
            "1/1 [==============================] - 0s 18ms/step\n",
            "-\n",
            "Input Sentence:  Run!\n",
            "decoded sentence:  Cours !\n",
            "\n",
            "1/1 [==============================] - 0s 16ms/step\n",
            "1/1 [==============================] - 0s 18ms/step\n",
            "1/1 [==============================] - 0s 18ms/step\n",
            "1/1 [==============================] - 0s 19ms/step\n",
            "1/1 [==============================] - 0s 21ms/step\n",
            "1/1 [==============================] - 0s 19ms/step\n",
            "1/1 [==============================] - 0s 18ms/step\n",
            "1/1 [==============================] - 0s 24ms/step\n",
            "1/1 [==============================] - 0s 18ms/step\n",
            "-\n",
            "Input Sentence:  Run!\n",
            "decoded sentence:  Cours !\n",
            "\n",
            "1/1 [==============================] - 0s 18ms/step\n",
            "1/1 [==============================] - 0s 18ms/step\n",
            "1/1 [==============================] - 0s 18ms/step\n",
            "1/1 [==============================] - 0s 31ms/step\n",
            "1/1 [==============================] - 0s 19ms/step\n",
            "1/1 [==============================] - 0s 20ms/step\n",
            "1/1 [==============================] - 0s 19ms/step\n",
            "1/1 [==============================] - 0s 21ms/step\n",
            "1/1 [==============================] - 0s 22ms/step\n",
            "-\n",
            "Input Sentence:  Run!\n",
            "decoded sentence:  Cours !\n",
            "\n",
            "1/1 [==============================] - 0s 19ms/step\n",
            "1/1 [==============================] - 0s 20ms/step\n",
            "1/1 [==============================] - 0s 22ms/step\n",
            "1/1 [==============================] - 0s 20ms/step\n",
            "1/1 [==============================] - 0s 21ms/step\n",
            "1/1 [==============================] - 0s 21ms/step\n",
            "1/1 [==============================] - 0s 32ms/step\n",
            "1/1 [==============================] - 0s 20ms/step\n",
            "1/1 [==============================] - 0s 20ms/step\n",
            "-\n",
            "Input Sentence:  Run!\n",
            "decoded sentence:  Cours !\n",
            "\n",
            "1/1 [==============================] - 0s 17ms/step\n",
            "1/1 [==============================] - 0s 22ms/step\n",
            "1/1 [==============================] - 0s 21ms/step\n",
            "1/1 [==============================] - 0s 21ms/step\n",
            "1/1 [==============================] - 0s 20ms/step\n",
            "1/1 [==============================] - 0s 21ms/step\n",
            "1/1 [==============================] - 0s 20ms/step\n",
            "1/1 [==============================] - 0s 19ms/step\n",
            "1/1 [==============================] - 0s 21ms/step\n",
            "-\n",
            "Input Sentence:  Run!\n",
            "decoded sentence:  Cours !\n",
            "\n",
            "1/1 [==============================] - 0s 17ms/step\n",
            "1/1 [==============================] - 0s 22ms/step\n",
            "1/1 [==============================] - 0s 19ms/step\n",
            "1/1 [==============================] - 0s 21ms/step\n",
            "1/1 [==============================] - 0s 19ms/step\n",
            "1/1 [==============================] - 0s 18ms/step\n",
            "1/1 [==============================] - 0s 18ms/step\n",
            "1/1 [==============================] - 0s 18ms/step\n",
            "1/1 [==============================] - 0s 23ms/step\n",
            "-\n",
            "Input Sentence:  Run!\n",
            "decoded sentence:  Cours !\n",
            "\n",
            "1/1 [==============================] - 0s 17ms/step\n",
            "1/1 [==============================] - 0s 19ms/step\n",
            "1/1 [==============================] - 0s 19ms/step\n",
            "1/1 [==============================] - 0s 20ms/step\n",
            "1/1 [==============================] - 0s 19ms/step\n",
            "1/1 [==============================] - 0s 19ms/step\n",
            "1/1 [==============================] - 0s 20ms/step\n",
            "1/1 [==============================] - 0s 18ms/step\n",
            "1/1 [==============================] - 0s 21ms/step\n",
            "-\n",
            "Input Sentence:  Run!\n",
            "decoded sentence:  Cours !\n",
            "\n",
            "1/1 [==============================] - 0s 19ms/step\n",
            "1/1 [==============================] - 0s 20ms/step\n",
            "1/1 [==============================] - 0s 20ms/step\n",
            "1/1 [==============================] - 0s 18ms/step\n",
            "1/1 [==============================] - 0s 20ms/step\n",
            "1/1 [==============================] - 0s 22ms/step\n",
            "1/1 [==============================] - 0s 21ms/step\n",
            "1/1 [==============================] - 0s 31ms/step\n",
            "1/1 [==============================] - 0s 21ms/step\n",
            "-\n",
            "Input Sentence:  Run!\n",
            "decoded sentence:  Cours !\n",
            "\n",
            "1/1 [==============================] - 0s 20ms/step\n",
            "1/1 [==============================] - 0s 18ms/step\n",
            "1/1 [==============================] - 0s 20ms/step\n",
            "1/1 [==============================] - 0s 19ms/step\n",
            "1/1 [==============================] - 0s 18ms/step\n",
            "1/1 [==============================] - 0s 20ms/step\n",
            "1/1 [==============================] - 0s 21ms/step\n",
            "1/1 [==============================] - 0s 21ms/step\n",
            "1/1 [==============================] - 0s 19ms/step\n",
            "-\n",
            "Input Sentence:  Run.\n",
            "decoded sentence:  Cours !\n",
            "\n",
            "1/1 [==============================] - 0s 17ms/step\n",
            "1/1 [==============================] - 0s 20ms/step\n",
            "1/1 [==============================] - 0s 23ms/step\n",
            "1/1 [==============================] - 0s 19ms/step\n",
            "1/1 [==============================] - 0s 20ms/step\n",
            "1/1 [==============================] - 0s 20ms/step\n",
            "1/1 [==============================] - 0s 19ms/step\n",
            "1/1 [==============================] - 0s 19ms/step\n",
            "1/1 [==============================] - 0s 21ms/step\n",
            "-\n",
            "Input Sentence:  Run.\n",
            "decoded sentence:  Cours !\n",
            "\n",
            "1/1 [==============================] - 0s 18ms/step\n",
            "1/1 [==============================] - 0s 18ms/step\n",
            "1/1 [==============================] - 0s 20ms/step\n",
            "1/1 [==============================] - 0s 20ms/step\n",
            "1/1 [==============================] - 0s 21ms/step\n",
            "1/1 [==============================] - 0s 24ms/step\n",
            "1/1 [==============================] - 0s 18ms/step\n",
            "1/1 [==============================] - 0s 18ms/step\n",
            "1/1 [==============================] - 0s 20ms/step\n",
            "-\n",
            "Input Sentence:  Run.\n",
            "decoded sentence:  Cours !\n",
            "\n",
            "1/1 [==============================] - 0s 18ms/step\n",
            "1/1 [==============================] - 0s 18ms/step\n",
            "1/1 [==============================] - 0s 20ms/step\n",
            "1/1 [==============================] - 0s 22ms/step\n",
            "1/1 [==============================] - 0s 25ms/step\n",
            "1/1 [==============================] - 0s 19ms/step\n",
            "1/1 [==============================] - 0s 20ms/step\n",
            "1/1 [==============================] - 0s 19ms/step\n",
            "1/1 [==============================] - 0s 18ms/step\n",
            "-\n",
            "Input Sentence:  Run.\n",
            "decoded sentence:  Cours !\n",
            "\n",
            "1/1 [==============================] - 0s 18ms/step\n",
            "1/1 [==============================] - 0s 18ms/step\n",
            "1/1 [==============================] - 0s 18ms/step\n",
            "1/1 [==============================] - 0s 20ms/step\n",
            "1/1 [==============================] - 0s 20ms/step\n",
            "1/1 [==============================] - 0s 19ms/step\n",
            "1/1 [==============================] - 0s 20ms/step\n",
            "1/1 [==============================] - 0s 19ms/step\n",
            "1/1 [==============================] - 0s 19ms/step\n",
            "-\n",
            "Input Sentence:  Run.\n",
            "decoded sentence:  Cours !\n",
            "\n",
            "1/1 [==============================] - 0s 18ms/step\n",
            "1/1 [==============================] - 0s 21ms/step\n",
            "1/1 [==============================] - 0s 21ms/step\n",
            "1/1 [==============================] - 0s 19ms/step\n",
            "1/1 [==============================] - 0s 20ms/step\n",
            "1/1 [==============================] - 0s 20ms/step\n",
            "1/1 [==============================] - 0s 20ms/step\n",
            "1/1 [==============================] - 0s 18ms/step\n",
            "1/1 [==============================] - 0s 21ms/step\n",
            "-\n",
            "Input Sentence:  Run.\n",
            "decoded sentence:  Cours !\n",
            "\n"
          ]
        }
      ]
    }
  ]
}